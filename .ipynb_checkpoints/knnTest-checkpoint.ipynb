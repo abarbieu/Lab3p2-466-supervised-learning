{
 "cells": [
  {
   "cell_type": "code",
   "execution_count": 104,
   "id": "435bf0b9-e1a6-4dff-8ec2-09ba8d9eb932",
   "metadata": {},
   "outputs": [],
   "source": [
    "import numpy as np\n",
    "import pandas as pd\n",
    "import sys\n",
    "from collections import Counter\n",
    "from classifier import readArrange, initializeConfusion"
   ]
  },
  {
   "cell_type": "code",
   "execution_count": 51,
   "id": "e3cef06c-1369-4b49-88ea-52e17571d060",
   "metadata": {},
   "outputs": [],
   "source": [
    "def readCommandLine(file=None, k=None):\n",
    "    if len(sys.argv) < 3:\n",
    "        print(\"Usage: python3 knn.py <filename> <k>\")\n",
    "        exit(1)\n",
    "    \n",
    "    if file == None:\n",
    "        file = sys.argv[1]\n",
    "    if k == None:\n",
    "        k = int(sys.argv[2])\n",
    "        \n",
    "    if k <= 1:\n",
    "        print(\"K has to be greater than 1\")\n",
    "        exit(1)\n",
    "        \n",
    "    df = pd.read_csv(file)\n",
    "    df = prepareData(df)\n",
    "    return df, k, attrs"
   ]
  },
  {
   "cell_type": "code",
   "execution_count": 50,
   "id": "0be59a53-0bb1-411a-9041-74bc6aa2563f",
   "metadata": {},
   "outputs": [],
   "source": [
    "# normalizes all the numeric columns\n",
    "def normalizeNumeric(df, attrs):\n",
    "    for a in attrs:\n",
    "        if attrs[a] < 1:\n",
    "            colMax = df[a].max()\n",
    "            colMin = df[a].min()\n",
    "            # probably no need to normalize if the values are very small. Might have to adjust the value\n",
    "            if colMax < 5:\n",
    "                continue\n",
    "            df[a] = df[a].apply(lambda x: (x - colMin)/(colMax-colMin))\n",
    "    return df"
   ]
  },
  {
   "cell_type": "code",
   "execution_count": 87,
   "id": "30c0f713-441b-48f5-b97e-4550ba471365",
   "metadata": {},
   "outputs": [],
   "source": [
    "def prepareData(df):\n",
    "    aclass = df.iloc[1,0]\n",
    "    \n",
    "    # get attributes and whether or not they are numeric\n",
    "    attrs = {}\n",
    "    for a in df.columns:\n",
    "        attrs[a] = int(df[a][0])\n",
    "    \n",
    "    # drop the numeric and class label rows\n",
    "    df = df.drop([0, 1], axis=0)\n",
    "    \n",
    "    # getting list of categorical columns to pass to get_dummies to binarize categorical data\n",
    "    catCols = [col for col in attrs if attrs[col] >= 1 and col != aclass]\n",
    "    df = pd.get_dummies(df, columns = catCols)\n",
    "    \n",
    "    # append class labels to end of dataframe\n",
    "    df = df[[c for c in df if c not in [aclass]] + [aclass]]\n",
    "    \n",
    "    # converting numeric data to non-string types\n",
    "    for a in attrs:\n",
    "        if attrs[a] < 1:\n",
    "            df[a] = pd.to_numeric(df[a])\n",
    "    \n",
    "    # normalizing the numeric columns\n",
    "    df = normalizeNumeric(df, attrs)\n",
    "    return df"
   ]
  },
  {
   "cell_type": "code",
   "execution_count": 99,
   "id": "53d4932b-b668-448e-b403-6ccb40633184",
   "metadata": {},
   "outputs": [],
   "source": [
    "def getStats(confusion, predictions):\n",
    "    accuracy = 0\n",
    "    numCorrect = 0\n",
    "    \n",
    "    # prediction = index 1, actual = index 2\n",
    "    for pred in predictions:\n",
    "        p = pred[1]\n",
    "        actual = pred[2]\n",
    "        if pred[1] == pred[2]:\n",
    "            numCorrect += 1\n",
    "        \n",
    "        # actual is vertical, predicted is horizontal\n",
    "        confusion[actual][p] += 1\n",
    "    \n",
    "    accuracy = numCorrect / len(predictions)\n",
    "    return accuracy"
   ]
  },
  {
   "cell_type": "code",
   "execution_count": 118,
   "id": "1d16b41b-88f7-43f0-bb24-0cf854624014",
   "metadata": {},
   "outputs": [
    {
     "name": "stdout",
     "output_type": "stream",
     "text": [
      "Accuracy of KNN with k = 2: 0.7026\n",
      "Confusion Matrix\n",
      "       0.0    1.0\n",
      "0.0  275.0  138.0\n",
      "1.0  135.0  370.0\n"
     ]
    }
   ],
   "source": [
    "# Euclidean distance = sqrt(sum((dist1 - dist2)^2)\n",
    "# the binarized categorical data is also used in this calculation\n",
    "def distance(d, x):\n",
    "    res = 0\n",
    "    \n",
    "    # iterate all the way up until the class label\n",
    "    for i in range(len(x)-1):\n",
    "        res += ((x[i] - d[i])**2)\n",
    "        \n",
    "    return res**(1/2)\n",
    "\n",
    "# returns the plurality class of the nearest neighbors\n",
    "def mostCommonLabel(data, neighborIndices):\n",
    "    labels = [data.loc[i][data.columns[-1]] for i in neighborIndices]\n",
    "    common = Counter(labels)\n",
    "    return max(labels, key=common.get)\n",
    "    \n",
    "def knn(data, k, x):\n",
    "    distances = {row.Index: distance(row, x) for row in data.itertuples() if not row.Index == x.Index}\n",
    "            \n",
    "    # sort the distances lowest to highest\n",
    "    distances = dict(sorted(distances.items(), key = lambda item: item[1]))\n",
    "    \n",
    "    # get the row indicies of the k nearest neighbors\n",
    "    neighbors = [key for i, key in enumerate(distances) if i < k]     \n",
    "    return mostCommonLabel(data, neighbors)\n",
    "\n",
    "def knnPredictions(data, k):\n",
    "    confusion = initializeConfusion(data)\n",
    "    predictions = []\n",
    "    \n",
    "    # apparently itertuples does the same thing as iterrows but is much faster\n",
    "    for d in data.itertuples():\n",
    "        pred = knn(data, k, d)\n",
    "        actual = d[-1]\n",
    "        predictions.append((d.Index, pred, actual))\n",
    "    \n",
    "    \n",
    "    accuracy = getStats(confusion, predictions)\n",
    "    print(f\"Accuracy of KNN with k = {k}: {accuracy:.4f}\")\n",
    "    print(\"Confusion Matrix\")\n",
    "    print(confusion)\n",
    "    \n",
    "# with heart.csv, k = 2 gives the best accuracy with 0.7026     \n",
    "df, k, attrs = readCommandLine(\"./data/heart.csv\", 2)\n",
    "knnPredictions(df, k)"
   ]
  }
 ],
 "metadata": {
  "kernelspec": {
   "display_name": "Python 3",
   "language": "python",
   "name": "python3"
  },
  "language_info": {
   "codemirror_mode": {
    "name": "ipython",
    "version": 3
   },
   "file_extension": ".py",
   "mimetype": "text/x-python",
   "name": "python",
   "nbconvert_exporter": "python",
   "pygments_lexer": "ipython3",
   "version": "3.8.8"
  }
 },
 "nbformat": 4,
 "nbformat_minor": 5
}
