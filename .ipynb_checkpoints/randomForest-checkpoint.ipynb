{
 "cells": [
  {
   "cell_type": "code",
   "execution_count": 3,
   "id": "7e97ba4b-5d61-4ecb-87c2-cefbef14d05e",
   "metadata": {},
   "outputs": [],
   "source": [
    "import numpy as np\n",
    "import pandas as pd\n",
    "import math\n",
    "import json\n",
    "import sys\n",
    "import time\n",
    "from InduceC45 import c45, readFiles\n",
    "from classifier import classifySimple, evaluate"
   ]
  },
  {
   "cell_type": "code",
   "execution_count": 2,
   "id": "c8db9f83-82a7-41ea-a5ef-52feb854e0f1",
   "metadata": {},
   "outputs": [],
   "source": [
    "def sampleDf(df, attrs, m, k):\n",
    "    datapoints = df.sample(frac=k)\n",
    "    newdata = datapoints.iloc[:,:-1].sample(m,axis=1).join(datapoints.iloc[:,-1])\n",
    "    \n",
    "    newattrs = {x: attrs[x] for x in newdata.iloc[:,:-1].columns}\n",
    "    return newdata, newattrs"
   ]
  },
  {
   "cell_type": "code",
   "execution_count": 3,
   "id": "ec897f50-04ca-420e-9fd8-0d069666b23a",
   "metadata": {},
   "outputs": [],
   "source": [
    "def createRandomForest(df, attrs, m, k, n, thresh=0.2):\n",
    "    trees=[]\n",
    "    for i in range(n):\n",
    "        sample, sampleAttrs = sampleDf(df,attrs,m,k)\n",
    "        trees.append(c45(sample, sampleAttrs, thresh))\n",
    "    return trees"
   ]
  },
  {
   "cell_type": "code",
   "execution_count": null,
   "id": "4d22a0ed-a267-4062-9353-1e7165276e3d",
   "metadata": {},
   "outputs": [],
   "source": [
    "def classifyWForest(df, attrs, forest):"
   ]
  },
  {
   "cell_type": "code",
   "execution_count": 27,
   "id": "487ac05d-4e56-4496-8a90-ec48c4a29f5e",
   "metadata": {},
   "outputs": [
    {
     "name": "stdout",
     "output_type": "stream",
     "text": [
      "accuracy 0.9866666666666667\n",
      "errorRate 0.013333333333333334\n",
      "numClassified 150\n",
      "numCorrect 148\n",
      "numErrors 2\n",
      "confusionLabel Actual ↓, Predicted →\n",
      "confusion                  Iris-setosa  Iris-versicolor  Iris-virginica\n",
      "Iris-setosa             50.0              0.0             0.0\n",
      "Iris-versicolor          0.0             49.0             1.0\n",
      "Iris-virginica           0.0              1.0            49.0\n",
      "results     sepalLength  sepalWidth  petalLength  petalWidth         species  \\\n",
      "2           5.1         3.5          1.4         0.2     Iris-setosa   \n",
      "3           4.9         3.0          1.4         0.2     Iris-setosa   \n",
      "4           4.7         3.2          1.3         0.2     Iris-setosa   \n",
      "5           4.6         3.1          1.5         0.2     Iris-setosa   \n",
      "6           5.0         3.6          1.4         0.2     Iris-setosa   \n",
      "..          ...         ...          ...         ...             ...   \n",
      "147         6.7         3.0          5.2         2.3  Iris-virginica   \n",
      "148         6.3         2.5          5.0         1.9  Iris-virginica   \n",
      "149         6.5         3.0          5.2         2.0  Iris-virginica   \n",
      "150         6.2         3.4          5.4         2.3  Iris-virginica   \n",
      "151         5.9         3.0          5.1         1.8  Iris-virginica   \n",
      "\n",
      "         prediction  \n",
      "2       Iris-setosa  \n",
      "3       Iris-setosa  \n",
      "4       Iris-setosa  \n",
      "5       Iris-setosa  \n",
      "6       Iris-setosa  \n",
      "..              ...  \n",
      "147  Iris-virginica  \n",
      "148  Iris-virginica  \n",
      "149  Iris-virginica  \n",
      "150  Iris-virginica  \n",
      "151  Iris-virginica  \n",
      "\n",
      "[150 rows x 6 columns]\n"
     ]
    }
   ],
   "source": [
    "if __name__ == \"__main__\":\n",
    "    thresh=0.2\n",
    "#     if len(sys.argv) == 6:\n",
    "#         _, datafile, m, k, N, outputfile = sys.argv\n",
    "#     else if len(sys.argv) == 7:\n",
    "#         _, datafile, m, k, N, outputfile, thresh = sys.argv\n",
    "#     else:\n",
    "#         print(\"Usage: python3 randomForest.py <datafile.csv> <m> <k> <N> <outputFileName.csv> [thresh=0.2]\")\n",
    "#         exit(1)\n",
    "    \n",
    "    \n",
    "    m = 2\n",
    "    k = .2\n",
    "    n = 10\n",
    "    datafile = \"./data/iris.data.csv\"\n",
    "    outputfile = \"./output/iris.forest.preds\"\n",
    "    \n",
    "    df, filename, isLabeled, attrs = readFiles(datafile)\n",
    "    \n",
    "    preds = classifySimple(df,c45(df,attrs,thresh))\n",
    "    results = evaluate(df,preds)\n",
    "    for v in results:\n",
    "        print(v, results[v])\n",
    "#     print(createRandomForest(df,attrs,m,k,n,thresh))"
   ]
  }
 ],
 "metadata": {
  "kernelspec": {
   "display_name": "Python 3",
   "language": "python",
   "name": "python3"
  },
  "language_info": {
   "codemirror_mode": {
    "name": "ipython",
    "version": 3
   },
   "file_extension": ".py",
   "mimetype": "text/x-python",
   "name": "python",
   "nbconvert_exporter": "python",
   "pygments_lexer": "ipython3",
   "version": "3.8.8"
  }
 },
 "nbformat": 4,
 "nbformat_minor": 5
}
