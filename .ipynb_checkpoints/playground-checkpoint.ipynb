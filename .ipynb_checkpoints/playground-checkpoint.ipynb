{
 "cells": [
  {
   "cell_type": "code",
   "execution_count": 2,
   "id": "872c6a3c-39d1-4359-80cb-49a7c1c0c525",
   "metadata": {},
   "outputs": [],
   "source": [
    "import numpy as np\n",
    "import pandas as pd\n",
    "import math\n",
    "import json\n",
    "import sys\n",
    "import time"
   ]
  },
  {
   "cell_type": "code",
   "execution_count": 1,
   "id": "45999045-8137-4feb-a24a-8eeca7bdeca4",
   "metadata": {},
   "outputs": [],
   "source": [
    "# Reads a training set csv file and a restrictions vector text file, returns arranged training set          \n",
    "def readFiles(filename=None, restrictions=None):\n",
    "    if filename is None and restrictions is None:\n",
    "        if len(sys.argv) < 2:\n",
    "            print(\"Not enough arguments.\")\n",
    "            exit(1)\n",
    "        elif len(sys.argv) == 3:\n",
    "            restrictions = sys.argv[2]\n",
    "        filename = sys.argv[1]\n",
    "\n",
    "    restr=None\n",
    "    if restrictions != None:\n",
    "        with open(restrictions) as r:\n",
    "            lines = r.read().replace(', ', ' ')\n",
    "            restr = [int(x) for x in lines.split(' ')]\n",
    "\n",
    "    df = pd.read_csv(filename)\n",
    "    aclass = df.iloc[1,0]\n",
    "    \n",
    "    attrs = {}\n",
    "    for a in df.columns:\n",
    "        attrs[a] = int(df[a][0])\n",
    "    \n",
    "    isLabeled = True\n",
    "    if not isinstance(aclass, str):\n",
    "        isLabeled = False\n",
    "    df = df.drop([0,1], axis=0)\n",
    "    if restr != None:\n",
    "        for i,v in enumerate(df.columns):\n",
    "            if restr[i] == 0:\n",
    "                df = df.drop(columns=[v])\n",
    "    if isLabeled:\n",
    "        df = df[[c for c in df if c not in [aclass]] + [aclass]]\n",
    "        \n",
    "    attrs.pop(df.columns[-1])\n",
    "    return df, filename, isLabeled, attrs"
   ]
  },
  {
   "cell_type": "code",
   "execution_count": 5,
   "id": "6288a678-db05-407f-a4b0-9bfec7a0d4d4",
   "metadata": {},
   "outputs": [],
   "source": [
    "# entropy of a series of data\n",
    "def entropy(classcol):\n",
    "    vals = classcol.value_counts()\n",
    "    size = classcol.count()\n",
    "    entropy=0\n",
    "    for v in vals:\n",
    "        entropy -= (v/size) * math.log(v/size,2)\n",
    "    return entropy\n",
    "\n",
    "# entropy of an attribute in a dataset, over each value of the attribute\n",
    "def entropyAttr(data, attr):\n",
    "    vals = data.pivot(columns=attr,values=data.columns[-1])\n",
    "    entropyTot = 0\n",
    "    for c in vals.columns:\n",
    "        entropyTot += (vals[c].count()/len(data)) * entropy(vals[c])\n",
    "    return entropyTot\n",
    "\n",
    "# entropy of a series of data\n",
    "def entropyValCounts(vals):\n",
    "    size=0\n",
    "    for v in vals:\n",
    "        size += v\n",
    "        \n",
    "    entropy=0\n",
    "    for v in vals:\n",
    "        entropy -= (v/size) * math.log(v/size,2)\n",
    "    return entropy\n",
    "\n",
    "def splitEntropy(le, gt):\n",
    "    sizeLe = 0\n",
    "    for v in le:\n",
    "        sizeLe += v\n",
    "    sizeGt = 0\n",
    "    \n",
    "    for v in gt:\n",
    "        sizeGt += v\n",
    "    \n",
    "    size = sizeLe+sizeGt\n",
    "    \n",
    "    return sizeLe/size * entropyValCounts(le) + sizeGt/size * entropyValCounts(gt)\n",
    "    \n",
    "def calcGainBetter(data,attr,p0):\n",
    "    vals = data[attr].unique()\n",
    "    \n",
    "    bestSplit = None\n",
    "    bestGain = 0.0\n",
    "    for v in vals:\n",
    "        le = data[data[attr] <= v].iloc[:,-1].value_counts()\n",
    "        gt = data[data[attr] > v].iloc[:,-1].value_counts()\n",
    "        \n",
    "        splitGain = p0 - splitEntropy(le,gt)\n",
    "        if splitGain > bestGain:\n",
    "            bestGain = splitGain\n",
    "            bestSplit = v\n",
    "            \n",
    "    return bestSplit, bestGain\n",
    "\n",
    "def findBestSplit(data, attr, p0):\n",
    "    return calcGainBetter(data, attr, p0)"
   ]
  },
  {
   "cell_type": "code",
   "execution_count": null,
   "id": "b308c12d-5d2e-444c-8b87-689239056c17",
   "metadata": {},
   "outputs": [],
   "source": [
    "def selectSplittingAttr(attrs, data, threshold):\n",
    "    p0 = entropy(data.iloc[:,-1])\n",
    "    bestGain = 0\n",
    "    alpha = None\n",
    "    bestAttr = None\n",
    "    \n",
    "    for a in attrs:\n",
    "        tmpAlpha=None\n",
    "        tmpGain=0\n",
    "        if attrs[a] < 1: # if attr is numeric\n",
    "            tmpAlpha, tmpGain = findBestSplit(data, a, p0)\n",
    "        else:\n",
    "            tmpGain = p0 - entropyAttr(data, a)\n",
    "        if tmpGain > bestGain:\n",
    "            bestAttr = a\n",
    "            bestGain = tmpGain\n",
    "            alpha = tmpAlpha\n",
    "    \n",
    "    if bestGain > threshold:\n",
    "        return bestAttr, alpha\n",
    "    else:\n",
    "        return None, None"
   ]
  },
  {
   "cell_type": "code",
   "execution_count": 51,
   "id": "3c138361-3b3f-464b-8058-2604b3c94c9f",
   "metadata": {},
   "outputs": [
    {
     "data": {
      "text/plain": [
       "1.584962500721156"
      ]
     },
     "execution_count": 51,
     "metadata": {},
     "output_type": "execute_result"
    }
   ],
   "source": [
    "def binarySplitEntropy(totalCounts, prevCounts):\n",
    "    split2 = np.array(totalCounts) - np.array(prevCounts)\n",
    "    size = np.sum(totalCounts)\n",
    "    size1 = np.sum(prevCounts)\n",
    "    size2 = np.sum(split2)\n",
    "    \n",
    "    entropy1=0\n",
    "    for v in prevCounts:\n",
    "        if v > 0:\n",
    "            entropy1 -= (v/size1) * math.log(v/size1,2)\n",
    "    \n",
    "    entropy2=0\n",
    "    for v in split2:\n",
    "        if v > 0:\n",
    "            entropy2 -= (v/size2) * math.log(v/size2,2)\n",
    "    \n",
    "    return (size1/size)*entropy1 + (size2/size)*entropy2\n",
    "\n",
    "binarySplitEntropy()"
   ]
  },
  {
   "cell_type": "code",
   "execution_count": 73,
   "id": "536b3808-48cd-4b9f-81ff-f71337b0d066",
   "metadata": {},
   "outputs": [
    {
     "data": {
      "text/plain": [
       "2.0"
      ]
     },
     "execution_count": 73,
     "metadata": {},
     "output_type": "execute_result"
    }
   ],
   "source": [
    "def diskFindBestSplit(attr, data):\n",
    "    p0 = entropy(data.iloc[:,-1])\n",
    "    data = data.sort_values(by=attr)\n",
    "    classes = data.iloc[:,-1].unique()\n",
    "    k = len(classes)\n",
    "    dataLen = len(data)\n",
    "    \n",
    "    alpha = [0] * dataLen\n",
    "    counts = []\n",
    "    for i in range(k):\n",
    "        counts.append([0] * dataLen)\n",
    "    \n",
    "    l=0\n",
    "    for _, v in data.iterrows():\n",
    "        alpha[l] = float(v[attr])\n",
    "        \n",
    "        for j in range(k):\n",
    "            if v[-1] == classes[j]: # if class of data point is jth class, -1 is last col\n",
    "                counts[j][l] += 1\n",
    "                \n",
    "        l += 1\n",
    "        \n",
    "    totalCounts=[]\n",
    "    for c in counts:\n",
    "        totalCounts.append(np.sum(c))\n",
    "    \n",
    "    prevCounts=[0]*k\n",
    "    l=0\n",
    "    maxGain = 0\n",
    "    bestAlpha = None\n",
    "    for l in range(dataLen):\n",
    "        for j in range(k):\n",
    "            prevCounts[j] += counts[j][l] # sum previous counts\n",
    "        gain = p0 - binarySplitEntropy(totalCounts, prevCounts)\n",
    "        if gain > maxGain:\n",
    "            maxGain = gain\n",
    "            bestAlpha = alpha[l]\n",
    "    return bestAlpha\n",
    "\n",
    "df, filename, tmp, attrs = readFiles(\"./data/letter-recognition.data.csv\")\n",
    "diskFindBestSplit('xbox', df)"
   ]
  },
  {
   "cell_type": "code",
   "execution_count": 74,
   "id": "aa82d765-9c26-41b6-a973-fdbe16fd0d0a",
   "metadata": {},
   "outputs": [
    {
     "data": {
      "text/plain": [
       "(2.0, 0.04797715771561428)"
      ]
     },
     "execution_count": 74,
     "metadata": {},
     "output_type": "execute_result"
    }
   ],
   "source": [
    "def calcGainBetter(data,attr):\n",
    "    p0 = entropy(data.iloc[:,-1])\n",
    "    vals = data[attr].unique()\n",
    "    \n",
    "    bestSplit = None\n",
    "    bestGain = 0.0\n",
    "    for v in vals:\n",
    "        le = data[data[attr] <= v].iloc[:,-1].value_counts()\n",
    "        gt = data[data[attr] > v].iloc[:,-1].value_counts()\n",
    "        \n",
    "        splitGain = p0 - splitEntropy(le,gt)\n",
    "        if splitGain > bestGain:\n",
    "            bestGain = splitGain\n",
    "            bestSplit = v\n",
    "            \n",
    "    return bestSplit, bestGain\n",
    "\n",
    "def findBestSplit(data, attr):\n",
    "    return calcGainBetter(data, attr)\n",
    "\n",
    "df, filename, tmp, attrs = readFiles(\"./data/letter-recognition.data.csv\")\n",
    "findBestSplit(df, 'xbox')"
   ]
  }
 ],
 "metadata": {
  "kernelspec": {
   "display_name": "Python 3",
   "language": "python",
   "name": "python3"
  },
  "language_info": {
   "codemirror_mode": {
    "name": "ipython",
    "version": 3
   },
   "file_extension": ".py",
   "mimetype": "text/x-python",
   "name": "python",
   "nbconvert_exporter": "python",
   "pygments_lexer": "ipython3",
   "version": "3.8.8"
  }
 },
 "nbformat": 4,
 "nbformat_minor": 5
}
