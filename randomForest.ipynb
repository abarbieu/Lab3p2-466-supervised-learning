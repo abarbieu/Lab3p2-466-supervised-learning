{
 "cells": [
  {
   "cell_type": "code",
   "execution_count": 2,
   "id": "7e97ba4b-5d61-4ecb-87c2-cefbef14d05e",
   "metadata": {},
   "outputs": [],
   "source": [
    "import numpy as np\n",
    "import pandas as pd\n",
    "import math\n",
    "import json\n",
    "import sys\n",
    "import time\n",
    "from InduceC45 import c45, readFiles\n",
    "from classifier import classify, readArrange, initializeConfusion"
   ]
  },
  {
   "cell_type": "code",
   "execution_count": 3,
   "id": "3185c14e-df44-49f4-b9d6-f77b1e76753b",
   "metadata": {},
   "outputs": [
    {
     "name": "stdout",
     "output_type": "stream",
     "text": [
      "Not enough arguments. format: python3 randomForest.py datafile.csv m k N outputFileName.csv\n"
     ]
    }
   ],
   "source": [
    "def getArgs():\n",
    "    restr=None\n",
    "    if len(sys.argv) != 6:\n",
    "        print(\"Not enough arguments. format: python3 randomForest.py datafile.csv m k N outputFileName.csv\")\n",
    "        exit(1)\n",
    "    else:\n",
    "        print(sys.argv)\n",
    "    \n",
    "    df, tmp, isLabeled, attrs = readFiles(file1)\n",
    "    \n",
    "    return df, int(k), isLabeled, attrs\n",
    "\n",
    "getArgs()"
   ]
  }
 ],
 "metadata": {
  "kernelspec": {
   "display_name": "Python 3",
   "language": "python",
   "name": "python3"
  },
  "language_info": {
   "codemirror_mode": {
    "name": "ipython",
    "version": 3
   },
   "file_extension": ".py",
   "mimetype": "text/x-python",
   "name": "python",
   "nbconvert_exporter": "python",
   "pygments_lexer": "ipython3",
   "version": "3.8.8"
  }
 },
 "nbformat": 4,
 "nbformat_minor": 5
}
